{
 "cells": [
  {
   "cell_type": "markdown",
   "id": "df0d234f-1e1a-4495-8208-e177e7f527aa",
   "metadata": {},
   "source": [
    "Complete the exercises below For **Assignment #5**."
   ]
  },
  {
   "cell_type": "markdown",
   "id": "dda5a856-c272-4fdd-8670-d66a0cf2c7e4",
   "metadata": {},
   "source": [
    "In this exercise, we are building a logistic regression classification model. We'll work with the [Pima Indians Diabetes Database](https://www.kaggle.com/datasets/uciml/pima-indians-diabetes-database).  "
   ]
  },
  {
   "cell_type": "markdown",
   "id": "c123800d-7139-4c31-ba42-82b8a8eb7ff5",
   "metadata": {},
   "source": [
    "Load the `tidymodels` library. "
   ]
  },
  {
   "cell_type": "code",
   "execution_count": 9,
   "id": "047c6e53-68f8-466b-ae3c-1bc19e288f27",
   "metadata": {
    "vscode": {
     "languageId": "r"
    }
   },
   "outputs": [],
   "source": [
    "library(tidymodels)\n",
    "\n"
   ]
  },
  {
   "cell_type": "markdown",
   "id": "c6ef6a10-5b45-4857-b776-a81f92a0b682",
   "metadata": {},
   "source": [
    "The data is located in your homework directory in the `diabetes.csv` file. Read in the data by running the following cell. We are \"splitting\" the data into training and testing sets. We will evaluate our model's performance with the test set."
   ]
  },
  {
   "cell_type": "code",
   "execution_count": 10,
   "id": "e68fb274-ddbe-4ae0-a927-2c4d57d3b31a",
   "metadata": {
    "vscode": {
     "languageId": "r"
    }
   },
   "outputs": [
    {
     "name": "stderr",
     "output_type": "stream",
     "text": [
      "\u001b[1mRows: \u001b[22m\u001b[34m768\u001b[39m \u001b[1mColumns: \u001b[22m\u001b[34m9\u001b[39m\n",
      "\u001b[36m──\u001b[39m \u001b[1mColumn specification\u001b[22m \u001b[36m────────────────────────────────────────────────────────\u001b[39m\n",
      "\u001b[1mDelimiter:\u001b[22m \",\"\n",
      "\u001b[32mdbl\u001b[39m (9): Pregnancies, Glucose, BloodPressure, SkinThickness, Insulin, BMI, D...\n",
      "\n",
      "\u001b[36mℹ\u001b[39m Use `spec()` to retrieve the full column specification for this data.\n",
      "\u001b[36mℹ\u001b[39m Specify the column types or set `show_col_types = FALSE` to quiet this message.\n"
     ]
    }
   ],
   "source": [
    "diabetes = readr::read_csv('diabetes.csv') |> mutate(Outcome = factor(Outcome))\n",
    "\n",
    "split = initial_split(diabetes, strata = Outcome)\n",
    "\n",
    "diabetes_train = training(split)\n",
    "diabetes_test = testing(split)"
   ]
  },
  {
   "cell_type": "markdown",
   "id": "8b09de69-a735-4176-9eae-39479d2a3836",
   "metadata": {},
   "source": [
    "Glimpse the `diabetes_train` table."
   ]
  },
  {
   "cell_type": "code",
   "execution_count": 11,
   "id": "31877cc1-ae94-4002-9c95-30244b8df393",
   "metadata": {
    "vscode": {
     "languageId": "r"
    }
   },
   "outputs": [
    {
     "name": "stdout",
     "output_type": "stream",
     "text": [
      "Rows: 576\n",
      "Columns: 9\n",
      "$ Pregnancies              \u001b[3m\u001b[90m<dbl>\u001b[39m\u001b[23m 1\u001b[90m, \u001b[39m1\u001b[90m, \u001b[39m5\u001b[90m, \u001b[39m10\u001b[90m, \u001b[39m4\u001b[90m, \u001b[39m10\u001b[90m, \u001b[39m1\u001b[90m, \u001b[39m3\u001b[90m, \u001b[39m8\u001b[90m, \u001b[39m1\u001b[90m, \u001b[39m13\u001b[90m, \u001b[39m5\u001b[90m, \u001b[39m6\u001b[90m, \u001b[39m10\u001b[90m,\u001b[39m…\n",
      "$ Glucose                  \u001b[3m\u001b[90m<dbl>\u001b[39m\u001b[23m 85\u001b[90m, \u001b[39m89\u001b[90m, \u001b[39m116\u001b[90m, \u001b[39m115\u001b[90m, \u001b[39m110\u001b[90m, \u001b[39m139\u001b[90m, \u001b[39m103\u001b[90m, \u001b[39m126\u001b[90m, \u001b[39m99\u001b[90m, \u001b[39m97\u001b[90m,\u001b[39m…\n",
      "$ BloodPressure            \u001b[3m\u001b[90m<dbl>\u001b[39m\u001b[23m 66\u001b[90m, \u001b[39m66\u001b[90m, \u001b[39m74\u001b[90m, \u001b[39m0\u001b[90m, \u001b[39m92\u001b[90m, \u001b[39m80\u001b[90m, \u001b[39m30\u001b[90m, \u001b[39m88\u001b[90m, \u001b[39m84\u001b[90m, \u001b[39m66\u001b[90m, \u001b[39m82\u001b[90m, \u001b[39m75…\n",
      "$ SkinThickness            \u001b[3m\u001b[90m<dbl>\u001b[39m\u001b[23m 29\u001b[90m, \u001b[39m23\u001b[90m, \u001b[39m0\u001b[90m, \u001b[39m0\u001b[90m, \u001b[39m0\u001b[90m, \u001b[39m0\u001b[90m, \u001b[39m38\u001b[90m, \u001b[39m41\u001b[90m, \u001b[39m0\u001b[90m, \u001b[39m15\u001b[90m, \u001b[39m19\u001b[90m, \u001b[39m26\u001b[90m, \u001b[39m0\u001b[90m,\u001b[39m…\n",
      "$ Insulin                  \u001b[3m\u001b[90m<dbl>\u001b[39m\u001b[23m 0\u001b[90m, \u001b[39m94\u001b[90m, \u001b[39m0\u001b[90m, \u001b[39m0\u001b[90m, \u001b[39m0\u001b[90m, \u001b[39m0\u001b[90m, \u001b[39m83\u001b[90m, \u001b[39m235\u001b[90m, \u001b[39m0\u001b[90m, \u001b[39m140\u001b[90m, \u001b[39m110\u001b[90m, \u001b[39m0\u001b[90m, \u001b[39m0…\n",
      "$ BMI                      \u001b[3m\u001b[90m<dbl>\u001b[39m\u001b[23m 26.6\u001b[90m, \u001b[39m28.1\u001b[90m, \u001b[39m25.6\u001b[90m, \u001b[39m35.3\u001b[90m, \u001b[39m37.6\u001b[90m, \u001b[39m27.1\u001b[90m, \u001b[39m43.3\u001b[90m, \u001b[39m39.…\n",
      "$ DiabetesPedigreeFunction \u001b[3m\u001b[90m<dbl>\u001b[39m\u001b[23m 0.351\u001b[90m, \u001b[39m0.167\u001b[90m, \u001b[39m0.201\u001b[90m, \u001b[39m0.134\u001b[90m, \u001b[39m0.191\u001b[90m, \u001b[39m1.441\u001b[90m, \u001b[39m0.1…\n",
      "$ Age                      \u001b[3m\u001b[90m<dbl>\u001b[39m\u001b[23m 31\u001b[90m, \u001b[39m21\u001b[90m, \u001b[39m30\u001b[90m, \u001b[39m29\u001b[90m, \u001b[39m30\u001b[90m, \u001b[39m57\u001b[90m, \u001b[39m33\u001b[90m, \u001b[39m27\u001b[90m, \u001b[39m50\u001b[90m, \u001b[39m22\u001b[90m, \u001b[39m57\u001b[90m, \u001b[39m6…\n",
      "$ Outcome                  \u001b[3m\u001b[90m<fct>\u001b[39m\u001b[23m 0\u001b[90m, \u001b[39m0\u001b[90m, \u001b[39m0\u001b[90m, \u001b[39m0\u001b[90m, \u001b[39m0\u001b[90m, \u001b[39m0\u001b[90m, \u001b[39m0\u001b[90m, \u001b[39m0\u001b[90m, \u001b[39m0\u001b[90m, \u001b[39m0\u001b[90m, \u001b[39m0\u001b[90m, \u001b[39m0\u001b[90m, \u001b[39m0\u001b[90m, \u001b[39m0\u001b[90m, \u001b[39m0\u001b[90m, \u001b[39m…\n"
     ]
    }
   ],
   "source": [
    "glimpse(diabetes_train)\n"
   ]
  },
  {
   "cell_type": "markdown",
   "id": "c061892f-14af-4342-8098-6799d6117391",
   "metadata": {},
   "source": [
    "❓ Which variable is suitable as the \"outcome\" in a logistic regression model?\n",
    "\n",
    "**Answer:**"
   ]
  },
  {
   "cell_type": "markdown",
   "id": "4d975dc9",
   "metadata": {},
   "source": [
    "The most suitable outcome variable in your logistic regression model is Outcome, as it represents the binary classification of diabetes (0 = No, 1 = Yes).\n"
   ]
  },
  {
   "cell_type": "markdown",
   "id": "16827b78-d5b4-4037-b89b-fa2ed13f0968",
   "metadata": {},
   "source": [
    "❓ Navigate to [Kaggle page](https://www.kaggle.com/datasets/mathchi/diabetes-data-set) for this dataset. Find descriptions for the `Glucose` and `BMI` columns. Add these descriptions to the [Markdown table](https://www.markdownguide.org/extended-syntax/#tables) below."
   ]
  },
  {
   "cell_type": "markdown",
   "id": "8025ad75-2a7b-43cd-9df4-77677abdf492",
   "metadata": {},
   "source": [
    "| Column name | Description |\n",
    "| :---------- | :---------- |\n",
    "| Glucose     | Plasma glucose concentration a 2 hours in an oral glucose tolerance test             |\n",
    "| BMI         | Body mass index (weight in kg/(height in m)^2)            |"
   ]
  },
  {
   "cell_type": "markdown",
   "id": "1ad31340-2c33-48a6-9a5b-468b970e670c",
   "metadata": {},
   "source": [
    "Make a bar chart showing the frequency of each \"outcome\" in the `Outcome` column from your `diabetes_train` data."
   ]
  },
  {
   "cell_type": "code",
   "execution_count": 12,
   "id": "579fb58c-0b0d-4fff-9b0e-826d38247a29",
   "metadata": {
    "vscode": {
     "languageId": "r"
    }
   },
   "outputs": [
    {
     "data": {
      "image/png": "[encoded data removed]",
      "text/plain": [
       "plot without title"
      ]
     },
     "metadata": {
      "image/png": {
       "height": 500,
       "width": 625
      }
     },
     "output_type": "display_data"
    }
   ],
   "source": [
    "library(ggplot2)\n",
    "\n",
    "ggplot(diabetes_train, aes(x = Outcome)) +\n",
    "  geom_bar(fill = \"steelblue\", color = \"black\") +\n",
    "  labs(title = \"Frequency of Diabetes Outcome\",\n",
    "       x = \"Outcome\",\n",
    "       y = \"Count\") +\n",
    "  theme_minimal()"
   ]
  },
  {
   "cell_type": "markdown",
   "id": "cc6a0694-256c-45a1-bcf5-bdebeb472a7b",
   "metadata": {},
   "source": [
    "❓ Is the data balanced? I.e. do we have equal counts of each outcome?\n",
    "\n",
    "**Answer:**"
   ]
  },
  {
   "cell_type": "markdown",
   "id": "f2da066b-d46a-4f7f-afe8-37c8a9439164",
   "metadata": {},
   "source": [
    "No, It's not balanced. There are more No than Yes\n",
    "\n"
   ]
  },
  {
   "cell_type": "markdown",
   "id": "f7cbe99d-468c-45fa-83ba-7a372b1557e5",
   "metadata": {},
   "source": [
    "Run the code below to create a table for plotting the predictors we will use in our model: `Glucose` and `BMI`. "
   ]
  },
  {
   "cell_type": "code",
   "execution_count": 13,
   "id": "f65b95e2-0a95-4684-8017-30ae1b8bee5f",
   "metadata": {
    "vscode": {
     "languageId": "r"
    }
   },
   "outputs": [
    {
     "data": {
      "text/html": [
       "<table class=\"dataframe\">\n",
       "<caption>A tibble: 6 × 3</caption>\n",
       "<thead>\n",
       "\t<tr><th scope=col>Outcome</th><th scope=col>name</th><th scope=col>value</th></tr>\n",
       "\t<tr><th scope=col>&lt;fct&gt;</th><th scope=col>&lt;chr&gt;</th><th scope=col>&lt;dbl&gt;</th></tr>\n",
       "</thead>\n",
       "<tbody>\n",
       "\t<tr><td>0</td><td>Glucose</td><td> 85.0</td></tr>\n",
       "\t<tr><td>0</td><td>BMI    </td><td> 26.6</td></tr>\n",
       "\t<tr><td>0</td><td>Glucose</td><td> 89.0</td></tr>\n",
       "\t<tr><td>0</td><td>BMI    </td><td> 28.1</td></tr>\n",
       "\t<tr><td>0</td><td>Glucose</td><td>116.0</td></tr>\n",
       "\t<tr><td>0</td><td>BMI    </td><td> 25.6</td></tr>\n",
       "</tbody>\n",
       "</table>\n"
      ],
      "text/latex": [
       "A tibble: 6 × 3\n",
       "\\begin{tabular}{lll}\n",
       " Outcome & name & value\\\\\n",
       " <fct> & <chr> & <dbl>\\\\\n",
       "\\hline\n",
       "\t 0 & Glucose &  85.0\\\\\n",
       "\t 0 & BMI     &  26.6\\\\\n",
       "\t 0 & Glucose &  89.0\\\\\n",
       "\t 0 & BMI     &  28.1\\\\\n",
       "\t 0 & Glucose & 116.0\\\\\n",
       "\t 0 & BMI     &  25.6\\\\\n",
       "\\end{tabular}\n"
      ],
      "text/markdown": [
       "\n",
       "A tibble: 6 × 3\n",
       "\n",
       "| Outcome &lt;fct&gt; | name &lt;chr&gt; | value &lt;dbl&gt; |\n",
       "|---|---|---|\n",
       "| 0 | Glucose |  85.0 |\n",
       "| 0 | BMI     |  26.6 |\n",
       "| 0 | Glucose |  89.0 |\n",
       "| 0 | BMI     |  28.1 |\n",
       "| 0 | Glucose | 116.0 |\n",
       "| 0 | BMI     |  25.6 |\n",
       "\n"
      ],
      "text/plain": [
       "  Outcome name    value\n",
       "1 0       Glucose  85.0\n",
       "2 0       BMI      26.6\n",
       "3 0       Glucose  89.0\n",
       "4 0       BMI      28.1\n",
       "5 0       Glucose 116.0\n",
       "6 0       BMI      25.6"
      ]
     },
     "metadata": {},
     "output_type": "display_data"
    }
   ],
   "source": [
    "plot_df = diabetes_train |>\n",
    "    select(Outcome, Glucose, BMI) |>\n",
    "    pivot_longer(cols = c(Glucose, BMI))\n",
    "\n",
    "plot_df |> head()"
   ]
  },
  {
   "cell_type": "markdown",
   "id": "67ccafeb-cd48-41cf-b3b8-d027aba80966",
   "metadata": {},
   "source": [
    "Using `plot_df`, make a chart showing the relationship of `Glucose` and `BMI` with `Outcome`. \n",
    "\n",
    "- use `geom_jitter` for your \"geom\"\n",
    "- `facet_wrap` your chart by the `name` variable. (e.g. `facet_wrap(~name, ncol = 2, scales = 'free_x')`)"
   ]
  },
  {
   "cell_type": "code",
   "execution_count": 14,
   "id": "d8025f46-2434-4b03-8f44-39d89f905c25",
   "metadata": {
    "vscode": {
     "languageId": "r"
    }
   },
   "outputs": [
    {
     "data": {
      "image/png": "[encoded data removed]",
      "text/plain": [
       "plot without title"
      ]
     },
     "metadata": {
      "image/png": {
       "height": 500,
       "width": 625
      }
     },
     "output_type": "display_data"
    }
   ],
   "source": [
    "ggplot(plot_df, aes(x = Outcome, y = value, color = Outcome)) +\n",
    "  geom_jitter(width = 0.2, alpha = 0.6) +\n",
    "  facet_wrap(~name, ncol = 2, scales = 'free_x') +\n",
    "  labs(title = \"Glucose and BMI Distribution by Diabetes Outcome\",\n",
    "       x = \"Diabetes Outcome\",\n",
    "       y = \"Value\") +\n",
    "  theme_minimal()\n",
    "\n"
   ]
  },
  {
   "cell_type": "markdown",
   "id": "29a0eccb-f3d5-49f5-b397-92b35b45e514",
   "metadata": {},
   "source": [
    "❓ What happens when you remove the `scales = 'free_x'` argument from the `facet_wrap` function?\n",
    "\n",
    "**Answer:**"
   ]
  },
  {
   "cell_type": "markdown",
   "id": "5615ae11",
   "metadata": {},
   "source": [
    "The x-axis scale will be fixed across all facets rather than adjusting independently for each variable.\n"
   ]
  },
  {
   "cell_type": "markdown",
   "id": "935e60ea-5f33-4eba-97c0-59f0a3792ecf",
   "metadata": {},
   "source": [
    "Using your training data, build logistic regression model of `Outcome` with `BMI` and `Glucose` as predictors. \n",
    "- Use \"glm\" for you engine\n",
    "- The formula for your fit function will be `Outcome ~ BMI + Glucose`"
   ]
  },
  {
   "cell_type": "code",
   "execution_count": 15,
   "id": "27dddfd6-efb4-4edf-a9e4-7e6239ef0216",
   "metadata": {
    "vscode": {
     "languageId": "r"
    }
   },
   "outputs": [
    {
     "data": {
      "text/plain": [
       "\n",
       "Call:\n",
       "glm(formula = Outcome ~ BMI + Glucose, family = binomial(), data = diabetes_train)\n",
       "\n",
       "Coefficients:\n",
       "             Estimate Std. Error z value Pr(>|z|)    \n",
       "(Intercept) -7.436182   0.699114 -10.637  < 2e-16 ***\n",
       "BMI          0.072256   0.015310   4.719 2.37e-06 ***\n",
       "Glucose      0.035816   0.003822   9.371  < 2e-16 ***\n",
       "---\n",
       "Signif. codes:  0 '***' 0.001 '**' 0.01 '*' 0.05 '.' 0.1 ' ' 1\n",
       "\n",
       "(Dispersion parameter for binomial family taken to be 1)\n",
       "\n",
       "    Null deviance: 745.11  on 575  degrees of freedom\n",
       "Residual deviance: 579.96  on 573  degrees of freedom\n",
       "AIC: 585.96\n",
       "\n",
       "Number of Fisher Scoring iterations: 4\n"
      ]
     },
     "metadata": {},
     "output_type": "display_data"
    }
   ],
   "source": [
    "log_model <- glm(Outcome ~ BMI + Glucose, data = diabetes_train, family = binomial())\n",
    "\n",
    "summary(log_model)\n"
   ]
  },
  {
   "cell_type": "markdown",
   "id": "9a1aa2d0-b6b4-42ad-8ac5-17c90e4bb216",
   "metadata": {},
   "source": [
    "Using `augment` with your fitted model and the `diabetes_test` data as arguments, create a new dataset called `diabetes_test_wPred` that is the `diabetes_test` table including predictions from your model. "
   ]
  },
  {
   "cell_type": "code",
   "execution_count": 16,
   "id": "7cf1ea17",
   "metadata": {
    "vscode": {
     "languageId": "r"
    }
   },
   "outputs": [
    {
     "data": {
      "text/html": [
       "<table class=\"dataframe\">\n",
       "<caption>A tibble: 6 × 9</caption>\n",
       "<thead>\n",
       "\t<tr><th scope=col>Outcome</th><th scope=col>BMI</th><th scope=col>Glucose</th><th scope=col>.fitted</th><th scope=col>.resid</th><th scope=col>.hat</th><th scope=col>.sigma</th><th scope=col>.cooksd</th><th scope=col>.std.resid</th></tr>\n",
       "\t<tr><th scope=col>&lt;fct&gt;</th><th scope=col>&lt;dbl&gt;</th><th scope=col>&lt;dbl&gt;</th><th scope=col>&lt;dbl&gt;</th><th scope=col>&lt;dbl&gt;</th><th scope=col>&lt;dbl&gt;</th><th scope=col>&lt;dbl&gt;</th><th scope=col>&lt;dbl&gt;</th><th scope=col>&lt;dbl&gt;</th></tr>\n",
       "</thead>\n",
       "<tbody>\n",
       "\t<tr><td>0</td><td>26.6</td><td> 85</td><td>-2.4698066</td><td>-0.4030196</td><td>0.003194961</td><td>1.006789</td><td>0.0000906777</td><td>-0.4036649</td></tr>\n",
       "\t<tr><td>0</td><td>28.1</td><td> 89</td><td>-2.2181584</td><td>-0.4545036</td><td>0.003186764</td><td>1.006750</td><td>0.0001163234</td><td>-0.4552295</td></tr>\n",
       "\t<tr><td>0</td><td>25.6</td><td>116</td><td>-1.4317601</td><td>-0.6545445</td><td>0.003895332</td><td>1.006557</td><td>0.0003126135</td><td>-0.6558231</td></tr>\n",
       "\t<tr><td>0</td><td>35.3</td><td>115</td><td>-0.7666969</td><td>-0.8735498</td><td>0.002908722</td><td>1.006265</td><td>0.0004530425</td><td>-0.8748230</td></tr>\n",
       "\t<tr><td>0</td><td>37.6</td><td>110</td><td>-0.7795900</td><td>-0.8688762</td><td>0.004124030</td><td>1.006272</td><td>0.0006356505</td><td>-0.8706734</td></tr>\n",
       "\t<tr><td>0</td><td>27.1</td><td>139</td><td>-0.4996041</td><td>-0.9738855</td><td>0.005077259</td><td>1.006102</td><td>0.0010374187</td><td>-0.9763673</td></tr>\n",
       "</tbody>\n",
       "</table>\n"
      ],
      "text/latex": [
       "A tibble: 6 × 9\n",
       "\\begin{tabular}{lllllllll}\n",
       " Outcome & BMI & Glucose & .fitted & .resid & .hat & .sigma & .cooksd & .std.resid\\\\\n",
       " <fct> & <dbl> & <dbl> & <dbl> & <dbl> & <dbl> & <dbl> & <dbl> & <dbl>\\\\\n",
       "\\hline\n",
       "\t 0 & 26.6 &  85 & -2.4698066 & -0.4030196 & 0.003194961 & 1.006789 & 0.0000906777 & -0.4036649\\\\\n",
       "\t 0 & 28.1 &  89 & -2.2181584 & -0.4545036 & 0.003186764 & 1.006750 & 0.0001163234 & -0.4552295\\\\\n",
       "\t 0 & 25.6 & 116 & -1.4317601 & -0.6545445 & 0.003895332 & 1.006557 & 0.0003126135 & -0.6558231\\\\\n",
       "\t 0 & 35.3 & 115 & -0.7666969 & -0.8735498 & 0.002908722 & 1.006265 & 0.0004530425 & -0.8748230\\\\\n",
       "\t 0 & 37.6 & 110 & -0.7795900 & -0.8688762 & 0.004124030 & 1.006272 & 0.0006356505 & -0.8706734\\\\\n",
       "\t 0 & 27.1 & 139 & -0.4996041 & -0.9738855 & 0.005077259 & 1.006102 & 0.0010374187 & -0.9763673\\\\\n",
       "\\end{tabular}\n"
      ],
      "text/markdown": [
       "\n",
       "A tibble: 6 × 9\n",
       "\n",
       "| Outcome &lt;fct&gt; | BMI &lt;dbl&gt; | Glucose &lt;dbl&gt; | .fitted &lt;dbl&gt; | .resid &lt;dbl&gt; | .hat &lt;dbl&gt; | .sigma &lt;dbl&gt; | .cooksd &lt;dbl&gt; | .std.resid &lt;dbl&gt; |\n",
       "|---|---|---|---|---|---|---|---|---|\n",
       "| 0 | 26.6 |  85 | -2.4698066 | -0.4030196 | 0.003194961 | 1.006789 | 0.0000906777 | -0.4036649 |\n",
       "| 0 | 28.1 |  89 | -2.2181584 | -0.4545036 | 0.003186764 | 1.006750 | 0.0001163234 | -0.4552295 |\n",
       "| 0 | 25.6 | 116 | -1.4317601 | -0.6545445 | 0.003895332 | 1.006557 | 0.0003126135 | -0.6558231 |\n",
       "| 0 | 35.3 | 115 | -0.7666969 | -0.8735498 | 0.002908722 | 1.006265 | 0.0004530425 | -0.8748230 |\n",
       "| 0 | 37.6 | 110 | -0.7795900 | -0.8688762 | 0.004124030 | 1.006272 | 0.0006356505 | -0.8706734 |\n",
       "| 0 | 27.1 | 139 | -0.4996041 | -0.9738855 | 0.005077259 | 1.006102 | 0.0010374187 | -0.9763673 |\n",
       "\n"
      ],
      "text/plain": [
       "  Outcome BMI  Glucose .fitted    .resid     .hat        .sigma   .cooksd     \n",
       "1 0       26.6  85     -2.4698066 -0.4030196 0.003194961 1.006789 0.0000906777\n",
       "2 0       28.1  89     -2.2181584 -0.4545036 0.003186764 1.006750 0.0001163234\n",
       "3 0       25.6 116     -1.4317601 -0.6545445 0.003895332 1.006557 0.0003126135\n",
       "4 0       35.3 115     -0.7666969 -0.8735498 0.002908722 1.006265 0.0004530425\n",
       "5 0       37.6 110     -0.7795900 -0.8688762 0.004124030 1.006272 0.0006356505\n",
       "6 0       27.1 139     -0.4996041 -0.9738855 0.005077259 1.006102 0.0010374187\n",
       "  .std.resid\n",
       "1 -0.4036649\n",
       "2 -0.4552295\n",
       "3 -0.6558231\n",
       "4 -0.8748230\n",
       "5 -0.8706734\n",
       "6 -0.9763673"
      ]
     },
     "metadata": {},
     "output_type": "display_data"
    }
   ],
   "source": [
    "library(broom)\n",
    "\n",
    "diabetes_test_wPred <- augment(log_model, new_data = diabetes_test)\n",
    "\n",
    "head(diabetes_test_wPred)"
   ]
  },
  {
   "cell_type": "markdown",
   "id": "f35cf7da-ca1e-42d3-a27b-e79193a1ccfd",
   "metadata": {},
   "source": [
    "Run the code below to generate a confusion matrix for your model predictions. \n",
    "\n",
    "(❗️Hint: See Table 4.4 from [*Introduction to Statistical Learning (Version 2)*](https://www.statlearning.com/) for an example confusion matrix.)"
   ]
  },
  {
   "cell_type": "code",
   "execution_count": 22,
   "id": "fb3bfae0-9d17-48a0-bde7-4891f91a07aa",
   "metadata": {
    "vscode": {
     "languageId": "r"
    }
   },
   "outputs": [
    {
     "data": {
      "text/plain": [
       "          Truth\n",
       "Prediction  No Yes\n",
       "       No  355 120\n",
       "       Yes  20  81"
      ]
     },
     "metadata": {},
     "output_type": "display_data"
    }
   ],
   "source": [
    "diabetes_test_wPred <- diabetes_test_wPred %>%\n",
    "  mutate(Outcome = factor(Outcome, levels = c(0, 1), labels = c(\"No\", \"Yes\")))\n",
    "\n",
    "diabetes_test_wPred |> conf_mat(truth = Outcome, estimate = .pred_class)"
   ]
  },
  {
   "cell_type": "markdown",
   "id": "7dc9a16d-9fda-4fcc-8e62-52c3e5849e26",
   "metadata": {},
   "source": [
    "❓ Based on the confusion matrix above, \n",
    "- How many individuals had diabetes in your test data?\n",
    "- Of those that actually had diabetes, how many were predicted to have diabetes by your model?\n",
    "- How many individuals predicted to have diabetes did not have diabetes?\n",
    "\n",
    "**Answer:**"
   ]
  },
  {
   "cell_type": "markdown",
   "id": "1968491b",
   "metadata": {},
   "source": [
    "- Total individuals with diabetes: 20 (False Negatives) + 81 (True Positives) = 101\n",
    "- Correctly predicted as having diabetes: 81 (True Positives)\n",
    "- Incorrectly predicted to have diabetes (False Positives): 120\n",
    "\n",
    "\n",
    "\n",
    "This means the model identified some diabetic cases correctly but also misclassified a number of non-diabetic individuals. \n"
   ]
  },
  {
   "cell_type": "markdown",
   "id": "a759514d-7d82-4c40-9f8e-dab37b73e59a",
   "metadata": {},
   "source": [
    "\n",
    "\n"
   ]
  }
 ],
 "metadata": {
  "kernelspec": {
   "display_name": "R",
   "language": "R",
   "name": "ir"
  },
  "language_info": {
   "codemirror_mode": "r",
   "file_extension": ".r",
   "mimetype": "text/x-r-source",
   "name": "R",
   "pygments_lexer": "r",
   "version": "4.3.3"
  }
 },
 "nbformat": 4,
 "nbformat_minor": 5
}
